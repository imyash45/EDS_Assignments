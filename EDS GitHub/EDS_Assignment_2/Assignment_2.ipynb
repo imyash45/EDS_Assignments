{
  "nbformat": 4,
  "nbformat_minor": 0,
  "metadata": {
    "colab": {
      "provenance": []
    },
    "kernelspec": {
      "name": "python3",
      "display_name": "Python 3"
    },
    "language_info": {
      "name": "python"
    }
  },
  "cells": [
    {
      "cell_type": "markdown",
      "source": [
        "1. Read CSV into Python Data Structures"
      ],
      "metadata": {
        "id": "FZ12tzE9tzDQ"
      }
    },
    {
      "cell_type": "code",
      "execution_count": null,
      "metadata": {
        "colab": {
          "base_uri": "https://localhost:8080/"
        },
        "id": "wI62m532ni4a",
        "outputId": "11fefada-3017-4cd8-9e26-123e26439441"
      },
      "outputs": [
        {
          "output_type": "stream",
          "name": "stdout",
          "text": [
            "<class 'tuple'>\n"
          ]
        }
      ],
      "source": [
        "Product_details=[]\n",
        "Supplier_details=dict()\n",
        "Customer_details=[] #tuple()\n",
        "gender={}\n",
        "\n",
        "fp1= open(\"/content/drive/MyDrive/Colab Notebooks/Sales.csv\", \"r\")\n",
        "data=fp1.readline()\n",
        "\n",
        "while True:\n",
        "\n",
        "  data=fp1.readline()\n",
        "  if not data:\n",
        "    break;\n",
        "  #print(data)\n",
        "  data=data.replace(\"\\n\",\"\")\n",
        "  temp=data.split(\",\")\n",
        "  Product_details.append(temp[1])\n",
        "  Customer_details.append(temp[3])\n",
        "  Supplier_details.update({temp[0]:temp[2]})\n",
        "  gender.update({temp[3]:temp[4]})\n",
        "\n",
        "fp1.close()\n",
        "#print(type(Customer_details))\\\n",
        "Customer_details=tuple(Customer_details)\n",
        "print(type(Customer_details))"
      ]
    },
    {
      "cell_type": "code",
      "source": [
        "print(\"\\nProduct_details\\n\", Product_details, end=\"\")\n",
        "print(\"\\nCustomer_details\\n\", Customer_details, end=\"\")\n",
        "print(\"\\nSupplier_details\\n\", Supplier_details, end=\"\")\n",
        "print(\"\\nGender_details\\n\", gender, end=\"\")"
      ],
      "metadata": {
        "colab": {
          "base_uri": "https://localhost:8080/"
        },
        "id": "phRipGqdqefU",
        "outputId": "cc9e951e-fc19-4935-dfd2-0cac750d104d"
      },
      "execution_count": null,
      "outputs": [
        {
          "output_type": "stream",
          "name": "stdout",
          "text": [
            "\n",
            "Product_details\n",
            " ['Lenovo Laptop', 'Samsung M31', 'Realmi 10pro', 'Oppo F21', 'Lenovo Laptop', 'Samsung M31', '\"LG TV 32\"\"\"', 'Oppo F21', 'Lenovo Laptop', 'Samsung M31', '\"LG TV 32\"\"\"', 'Lenovo Laptop', 'Samsung M31', 'Realmi 10pro', 'Lenovo Laptop', 'Oppo F21', '\"LG TV 32\"\"\"', 'Lenovo Laptop', 'Samsung M31', '\"LG TV 32\"\"\"']\n",
            "Customer_details\n",
            " ('Kaustubh Mahajan', 'Siddhi Kiwale', 'Sanket Kandalkar', 'Yash Mali', 'Yash Bagul', 'Siddhi Kiwale', 'Sanket Kandalkar', 'Kaustubh Mahajan', 'Yash Mali', 'Siddhi Kiwale', 'Sanket Kandalkar', 'Kaustubh Mahajan', 'Yash Mali', 'Siddhi Kiwale', 'Tanuja Mali', 'Kaustubh Mahajan', 'Sanket Kandalkar', 'Siddhi Kiwale', 'Kaustubh Mahajan', 'Yash Mali')\n",
            "Supplier_details\n",
            " {'P00001': 'Raka Ele.', 'P00002': 'Vijay Sales', 'P00003': 'Gada Ele.', 'P00004': 'Surya Ele.', 'P00005': 'Raka Ele.', 'P00006': 'Gada Ele.', 'P00007': 'Vijay Sales', 'P00008': 'Surya Ele.', 'P00009': 'Raka Ele.', 'P00010': 'Gada Ele.', 'P00011': 'Surya Ele.', 'P00012': 'Raka Ele.', 'P00013': 'Surya Ele.', 'P00014': 'Raka Ele.', 'P00015': 'Gada Ele.', 'P00016': 'Vijay Sales', 'P00017': 'Deshmukh sales', 'P00018': 'Raka Ele.', 'P00019': 'Deshmukh sales', 'P00020': 'Gada Ele.'}\n",
            "Gender_details\n",
            " {'Kaustubh Mahajan': 'Male', 'Siddhi Kiwale': 'Female', 'Sanket Kandalkar': 'Male', 'Yash Mali': 'Male', 'Yash Bagul': 'Male', 'Tanuja Mali': 'Female'}"
          ]
        }
      ]
    },
    {
      "cell_type": "markdown",
      "source": [
        "2. Find the most popular product for sales"
      ],
      "metadata": {
        "id": "8N5_njq_rziH"
      }
    },
    {
      "cell_type": "code",
      "source": [
        "frequency = {} # {Lenovo Laptop: 3}\n",
        "# iterating over the list\n",
        "for item in Product_details:\n",
        "  # checking the element in dictionary\n",
        "  if item in frequency:\n",
        "    # incrementing the counter\n",
        "    frequency[item] += 1\n",
        "  else:\n",
        "    # initializing the count\n",
        "    frequency[item] = 1\n",
        "# printing the frequency\n",
        "\n",
        "print(frequency)\n",
        "marklist = sorted(frequency.items(), key=lambda x:x[1], reverse=True)\n",
        "sortdict= dict(marklist)\n",
        "print(sortdict)\n",
        "print(\"The most popular product for sales\", list(sortdict.keys())[0],\"sold\", list(sortdict.values())[0],\"times\")"
      ],
      "metadata": {
        "colab": {
          "base_uri": "https://localhost:8080/"
        },
        "id": "1VaBSsN8ryv8",
        "outputId": "9dd32b7c-7ace-4aee-fcb5-1b4143647ce8"
      },
      "execution_count": null,
      "outputs": [
        {
          "output_type": "stream",
          "name": "stdout",
          "text": [
            "{'Lenovo Laptop': 6, 'Samsung M31': 5, 'Realmi 10pro': 2, 'Oppo F21': 3, '\"LG TV 32\"\"\"': 4}\n",
            "{'Lenovo Laptop': 6, 'Samsung M31': 5, '\"LG TV 32\"\"\"': 4, 'Oppo F21': 3, 'Realmi 10pro': 2}\n",
            "The most popular product for sales Lenovo Laptop sold 6 times\n"
          ]
        }
      ]
    },
    {
      "cell_type": "markdown",
      "source": [
        "OR"
      ],
      "metadata": {
        "id": "gqqw-JzAtib4"
      }
    },
    {
      "cell_type": "code",
      "source": [
        "# To install collections\n",
        "\n",
        "pip install collections #shift+enter"
      ],
      "metadata": {
        "id": "obOLsWOvtZHj",
        "colab": {
          "base_uri": "https://localhost:8080/",
          "height": 130
        },
        "outputId": "67991a9b-b2d2-44b3-ef5c-214596dbd34a"
      },
      "execution_count": null,
      "outputs": [
        {
          "output_type": "error",
          "ename": "SyntaxError",
          "evalue": "ignored",
          "traceback": [
            "\u001b[0;36m  File \u001b[0;32m\"<ipython-input-11-13a9632dc783>\"\u001b[0;36m, line \u001b[0;32m3\u001b[0m\n\u001b[0;31m    pip install collections #shift+enter\u001b[0m\n\u001b[0m        ^\u001b[0m\n\u001b[0;31mSyntaxError\u001b[0m\u001b[0;31m:\u001b[0m invalid syntax\n"
          ]
        }
      ]
    },
    {
      "cell_type": "code",
      "source": [
        "from collections import Counter\n",
        "counter = dict(Counter(Product_details))\n",
        "sorted_counter = sorted(counter.items(), key=lambda x:x[1], reverse=True)\n",
        "sorted_counter = dict(sorted_counter)\n",
        "print(\"The most popular product for sales\", list(sorted_counter.keys())[0],\n",
        "      \"sold\", list(sorted_counter.values())[0], \"times\")"
      ],
      "metadata": {
        "colab": {
          "base_uri": "https://localhost:8080/"
        },
        "id": "XljaXaNDCNyz",
        "outputId": "9a88897f-9de0-441b-bcf2-d3350e77512a"
      },
      "execution_count": null,
      "outputs": [
        {
          "output_type": "stream",
          "name": "stdout",
          "text": [
            "The most popular product for sales Lenovo Laptop sold 6 times\n"
          ]
        }
      ]
    },
    {
      "cell_type": "markdown",
      "source": [
        "3. Find the Best Supplier for Sales"
      ],
      "metadata": {
        "id": "ugKxu_TQDyIQ"
      }
    },
    {
      "cell_type": "code",
      "source": [
        "frequency = {}\n",
        "# iterating over the list\n",
        "for item in Supplier_details.values():\n",
        "  # checking the element in dictionary\n",
        "  if item in frequency:\n",
        "    # incrementing the counter\n",
        "    frequency[item] += 1\n",
        "  else:\n",
        "    # initializing the count\n",
        "    frequency[item] = 1\n",
        "# printing the frequency\n",
        "\n",
        "print(frequency)\n",
        "marklist = sorted(frequency.items(), key=lambda x:x[1], reverse=True)\n",
        "sortdict= dict(marklist)\n",
        "print(sortdict)\n",
        "print(\"The most popular Supplier for Sales\", list(sortdict.keys())[0],\"sold\", list(sortdict.values())[0],\"Items\")"
      ],
      "metadata": {
        "colab": {
          "base_uri": "https://localhost:8080/"
        },
        "id": "16JyNWM9D22V",
        "outputId": "258834d9-e61e-4470-c0b6-0405a2cf5907"
      },
      "execution_count": null,
      "outputs": [
        {
          "output_type": "stream",
          "name": "stdout",
          "text": [
            "{'Raka Ele.': 6, 'Vijay Sales': 3, 'Gada Ele.': 5, 'Surya Ele.': 4, 'Deshmukh sales': 2}\n",
            "{'Raka Ele.': 6, 'Gada Ele.': 5, 'Surya Ele.': 4, 'Vijay Sales': 3, 'Deshmukh sales': 2}\n",
            "The most popular Supplier for Sales Raka Ele. sold 6 Items\n"
          ]
        }
      ]
    },
    {
      "cell_type": "markdown",
      "source": [
        "OR"
      ],
      "metadata": {
        "id": "RDFKAOcjFX0_"
      }
    },
    {
      "cell_type": "code",
      "source": [
        "from collections import Counter\n",
        "counter = dict(Counter(list(Supplier_details.values())))\n",
        "sorted_counter = sorted(counter.items(), key=lambda x:x[1], reverse=True)\n",
        "sorted_counter = dict(sorted_counter)\n",
        "print(\"The most popular Supplier for sales\", list(sorted_counter.keys())[0],\n",
        "      \"sold\", list(sorted_counter.values())[0], \"Items\")"
      ],
      "metadata": {
        "colab": {
          "base_uri": "https://localhost:8080/"
        },
        "id": "sZiKJKPiFA2G",
        "outputId": "739ccc92-33ed-4893-ded0-1a26192668ef"
      },
      "execution_count": null,
      "outputs": [
        {
          "output_type": "stream",
          "name": "stdout",
          "text": [
            "The most popular Supplier for sales Raka Ele. sold 6 Items\n"
          ]
        }
      ]
    },
    {
      "cell_type": "markdown",
      "source": [
        "4. Find the customer who buys most of the products"
      ],
      "metadata": {
        "id": "3xAyo8MgGLrP"
      }
    },
    {
      "cell_type": "code",
      "source": [
        "frequency = {}\n",
        "# iterating over the list\n",
        "for item in Customer_details:\n",
        "  # checking the element in dictionary\n",
        "  if item in frequency:\n",
        "    # incrementing the counter\n",
        "    frequency[item] += 1\n",
        "  else:\n",
        "    # initializing the count\n",
        "    frequency[item] = 1\n",
        "# printing the frequency\n",
        "\n",
        "print(\"Frequency is as below:\\n\", frequency)\n",
        "marklist = sorted(frequency.items(), key=lambda x:x[1], reverse=True)\n",
        "sortdict= dict(marklist)\n",
        "print(\"\\nSorted dict ia as below: \\n\",sortdict)\n",
        "print(\"\\n\\nThe Customer who buys most of the products\", list(sortdict.keys())[0],\"buy\", list(sortdict.values())[0],\"Items\")"
      ],
      "metadata": {
        "colab": {
          "base_uri": "https://localhost:8080/"
        },
        "id": "dBlMCuDTGCPU",
        "outputId": "05903a57-fa19-4de5-9140-1d8e00e4d18a"
      },
      "execution_count": null,
      "outputs": [
        {
          "output_type": "stream",
          "name": "stdout",
          "text": [
            "Frequency is as below:\n",
            " {'Kaustubh Mahajan': 5, 'Siddhi Kiwale': 5, 'Sanket Kandalkar': 4, 'Yash Mali': 4, 'Yash Bagul': 1, 'Tanuja Mali': 1}\n",
            "\n",
            "Sorted dict ia as below: \n",
            " {'Kaustubh Mahajan': 5, 'Siddhi Kiwale': 5, 'Sanket Kandalkar': 4, 'Yash Mali': 4, 'Yash Bagul': 1, 'Tanuja Mali': 1}\n",
            "\n",
            "\n",
            "The Customer who buys most of the products Kaustubh Mahajan buy 5 Items\n"
          ]
        }
      ]
    },
    {
      "cell_type": "markdown",
      "source": [
        "OR"
      ],
      "metadata": {
        "id": "NYGMaW9mG-C4"
      }
    },
    {
      "cell_type": "code",
      "source": [
        "from collections import Counter\n",
        "counter = dict(Counter(Customer_details))\n",
        "sorted_counter = sorted(counter.items(), key=lambda x:x[1], reverse=True)\n",
        "sorted_counter = dict(sorted_counter)\n",
        "print(\"The Customer who buys most of the products\", list(sorted_counter.keys())[0],\n",
        "      \"buy\", list(sorted_counter.values())[0], \"Items\")"
      ],
      "metadata": {
        "colab": {
          "base_uri": "https://localhost:8080/"
        },
        "id": "UFizphvmG_Ht",
        "outputId": "1e796ced-b328-4b1d-ae59-67f59042e877"
      },
      "execution_count": null,
      "outputs": [
        {
          "output_type": "stream",
          "name": "stdout",
          "text": [
            "The Customer who buys most of the products Kaustubh Mahajan buy 5 Items\n"
          ]
        }
      ]
    },
    {
      "cell_type": "markdown",
      "source": [
        "5. Find the number of customer who are 'Female"
      ],
      "metadata": {
        "id": "tfooq_y1Hg05"
      }
    },
    {
      "cell_type": "code",
      "source": [
        "from collections import Counter\n",
        "counter = dict(Counter(Customer_details))\n",
        "names = list(counter.keys())\n",
        "print(names)\n",
        "male = 0\n",
        "female = 0\n",
        "\n",
        "for name in names:\n",
        "  if gender[name] == 'Male':\n",
        "    male=male + 1\n",
        "  if gender[name] == 'Female':\n",
        "    female += 1\n",
        "\n",
        "print(\"Total no of Male=\", male)\n",
        "print(\"Total no of Female=\", female)"
      ],
      "metadata": {
        "colab": {
          "base_uri": "https://localhost:8080/"
        },
        "id": "27BmJ13cHlv4",
        "outputId": "4088b2a0-ce8c-4b5e-dd85-020978e22c50"
      },
      "execution_count": null,
      "outputs": [
        {
          "output_type": "stream",
          "name": "stdout",
          "text": [
            "['Kaustubh Mahajan', 'Siddhi Kiwale', 'Sanket Kandalkar', 'Yash Mali', 'Yash Bagul', 'Tanuja Mali']\n",
            "Total no of Male= 4\n",
            "Total no of Female= 2\n"
          ]
        }
      ]
    }
  ]
}