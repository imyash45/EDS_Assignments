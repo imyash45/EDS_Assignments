{
  "nbformat": 4,
  "nbformat_minor": 0,
  "metadata": {
    "colab": {
      "provenance": []
    },
    "kernelspec": {
      "name": "python3",
      "display_name": "Python 3"
    },
    "language_info": {
      "name": "python"
    }
  },
  "cells": [
    {
      "cell_type": "code",
      "execution_count": null,
      "metadata": {
        "id": "AlCfE3Rxzwus",
        "colab": {
          "base_uri": "https://localhost:8080/"
        },
        "outputId": "1658705e-19d3-4215-d673-60633b88b64b"
      },
      "outputs": [
        {
          "output_type": "stream",
          "name": "stdout",
          "text": [
            "1,Onkar,Nanded\n",
            "2,Sahil,Pune\n",
            "3,Rohan,Nashik\n",
            "4,Tanmay,Mumbai\n",
            "5,Siddhesh,Lonavala\n",
            "1,Manager,100000\n",
            "2,Supervisor,95000\n",
            "3,Employee,70000\n",
            "4,HR,80000\n",
            "5,CA,85000\n",
            "1,Onkar,Nanded,Manager,100000\n",
            "\n",
            "2,Sahil,Pune,Supervisor,95000\n",
            "\n",
            "3,Rohan,Nashik,Employee,70000\n",
            "\n",
            "4,Tanmay,Mumbai,HR,80000\n",
            "\n",
            "5,Siddhesh,Lonavala,CA,85000\n",
            "\n",
            "['Onkar', 'Sahil', 'Rohan', 'Tanmay', 'Siddhesh']\n",
            "[100000, 95000, 70000, 80000, 85000]\n"
          ]
        }
      ],
      "source": [
        "# Assignment 1B: Merging Records\n",
        "\n",
        "f1 = open (\"/content/drive/MyDrive/Colab Notebooks/emp-1.csv\",\"r\")\n",
        "\n",
        "f2 = open (\"/content/drive/MyDrive/Colab Notebooks/sal.csv\",\"r\")\n",
        "\n",
        "f3 = open (\"/content/drive/MyDrive/Colab Notebooks/emp_sal.csv\",\"w\")\n",
        "\n",
        "contents1 = f1.read()\n",
        "contents2 = f2.read()\n",
        "print (contents1)\n",
        "print (contents2)\n",
        "nm = []\n",
        "sal = []\n",
        "\n",
        "lines1 = contents1.split(\"\\n\")\n",
        "lines2 = contents2.split(\"\\n\")\n",
        "\n",
        "for l1 in lines1:\n",
        "  words1 = l1.split(\",\")\n",
        "\n",
        "  for l2 in lines2:\n",
        "    words2 = l2.split(\",\")\n",
        "    if (words1[0] == words2[0] ):\n",
        "      l1 = l1 +\",\"+words2[1]+\",\"+words2[2]+\"\\n\"\n",
        "      f3.write(l1)\n",
        "\n",
        "      nm.append(words1[1])\n",
        "      sal.append(int(words2[2]))\n",
        "      print(l1)\n",
        "\n",
        "f1.close()\n",
        "f2.close()\n",
        "f3.close()\n",
        "print(nm)\n",
        "print(sal)\n"
      ]
    },
    {
      "cell_type": "code",
      "source": [
        "import csv\n",
        "def top_5_emp(d3):\n",
        "  d3.sort(key = lambda x : int(x[5]), reverse = True)\n",
        "  print(\"Sorted Data : \",d3)\n",
        "\n",
        "\n",
        "f1 = open (\"/content/drive/MyDrive/Colab Notebooks/emp-1.csv\",\"r\")\n",
        "\n",
        "f2 = open (\"/content/drive/MyDrive/Colab Notebooks/sal.csv\",\"r\")\n",
        "\n",
        "f3 = open (\"/content/drive/MyDrive/Colab Notebooks/emp_sal.csv\",\"w\")\n",
        "\n",
        "\n",
        "d1 = list(csv.reader(f1,delimiter=','))\n",
        "d2 = list(csv.reader(f2,delimiter=','))\n",
        "\n",
        "print(\"\\n\\n File1 Contents : \",d1)\n",
        "print(\"\\n\\n File2 Contents : \",d2)\n",
        "d3 = []\n",
        "for i in range(len(d1)):\n",
        "  d3.append(d1[i] + d2[i])\n",
        "\n",
        "print(d3)\n",
        "cw = csv.writer(f3)\n",
        "cw.writerows(d3)\n",
        "\n",
        "top_5_emp(d3)\n",
        "\n",
        "f1.close()\n",
        "f2.close()\n",
        "f3.close()\n",
        "\n",
        "\n"
      ],
      "metadata": {
        "id": "-f5V9-CdYTK5",
        "colab": {
          "base_uri": "https://localhost:8080/"
        },
        "outputId": "eacc3595-9ff7-41f8-a227-835fe8137763"
      },
      "execution_count": null,
      "outputs": [
        {
          "output_type": "stream",
          "name": "stdout",
          "text": [
            "\n",
            "\n",
            " File1 Contents :  [['1', 'Onkar', 'Nanded'], ['2', 'Sahil', 'Pune'], ['3', 'Rohan', 'Nashik'], ['4', 'Tanmay', 'Mumbai'], ['5', 'Siddhesh', 'Lonavala']]\n",
            "\n",
            "\n",
            " File2 Contents :  [['1', 'Manager', '100000'], ['2', 'Supervisor', '95000'], ['3', 'Employee', '70000'], ['4', 'HR', '80000'], ['5', 'CA', '85000']]\n",
            "[['1', 'Onkar', 'Nanded', '1', 'Manager', '100000'], ['2', 'Sahil', 'Pune', '2', 'Supervisor', '95000'], ['3', 'Rohan', 'Nashik', '3', 'Employee', '70000'], ['4', 'Tanmay', 'Mumbai', '4', 'HR', '80000'], ['5', 'Siddhesh', 'Lonavala', '5', 'CA', '85000']]\n",
            "Sorted Data :  [['1', 'Onkar', 'Nanded', '1', 'Manager', '100000'], ['2', 'Sahil', 'Pune', '2', 'Supervisor', '95000'], ['5', 'Siddhesh', 'Lonavala', '5', 'CA', '85000'], ['4', 'Tanmay', 'Mumbai', '4', 'HR', '80000'], ['3', 'Rohan', 'Nashik', '3', 'Employee', '70000']]\n"
          ]
        }
      ]
    }
  ]
}